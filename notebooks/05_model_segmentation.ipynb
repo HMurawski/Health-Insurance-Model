{
 "cells": [
  {
   "cell_type": "code",
   "execution_count": 1,
   "id": "ff43d5bb",
   "metadata": {},
   "outputs": [
    {
     "name": "stdout",
     "output_type": "stream",
     "text": [
      "Obtaining file:///C:/Users/USER/Desktop/projects/Health%20Insurance%20Model\n",
      "  Installing build dependencies: started\n",
      "  Installing build dependencies: finished with status 'done'\n",
      "  Checking if build backend supports build_editable: started\n",
      "  Checking if build backend supports build_editable: finished with status 'done'\n",
      "  Getting requirements to build editable: started\n",
      "  Getting requirements to build editable: finished with status 'done'\n",
      "  Preparing editable metadata (pyproject.toml): started\n",
      "  Preparing editable metadata (pyproject.toml): finished with status 'done'\n",
      "Building wheels for collected packages: insurance\n",
      "  Building editable for insurance (pyproject.toml): started\n",
      "  Building editable for insurance (pyproject.toml): finished with status 'done'\n",
      "  Created wheel for insurance: filename=insurance-0.1.0-0.editable-py3-none-any.whl size=1307 sha256=d7c665b1b1bd93377b9c7ad42261a056994be0577249cab0623d5ad49ab08514\n",
      "  Stored in directory: C:\\Users\\USER\\AppData\\Local\\Temp\\pip-ephem-wheel-cache-alboi_ai\\wheels\\c7\\86\\56\\d85e9c1741a69fba656bf71ca03f3a47f095a7d6e6dbdb57d0\n",
      "Successfully built insurance\n",
      "Installing collected packages: insurance\n",
      "  Attempting uninstall: insurance\n",
      "    Found existing installation: insurance 0.1.0\n",
      "    Uninstalling insurance-0.1.0:\n",
      "      Successfully uninstalled insurance-0.1.0\n",
      "Successfully installed insurance-0.1.0\n",
      "Note: you may need to restart the kernel to use updated packages.\n"
     ]
    },
    {
     "name": "stderr",
     "output_type": "stream",
     "text": [
      "\n",
      "[notice] A new release of pip is available: 25.0 -> 25.1.1\n",
      "[notice] To update, run: python.exe -m pip install --upgrade pip\n"
     ]
    }
   ],
   "source": [
    "%pip install -e ..\n",
    "%load_ext autoreload\n",
    "%autoreload 2"
   ]
  },
  {
   "cell_type": "code",
   "execution_count": 3,
   "id": "94871b20",
   "metadata": {},
   "outputs": [],
   "source": [
    "import sklearn, sys\n",
    "assert sklearn.__version__.startswith(\"1.4\"), \\\n",
    "    f\"Wrong sklearn version: {sklearn.__version__}\""
   ]
  },
  {
   "cell_type": "code",
   "execution_count": 6,
   "id": "bf5090ea",
   "metadata": {},
   "outputs": [],
   "source": [
    "\n",
    "import pandas as pd, numpy as np, joblib, pathlib, datetime as dt\n",
    "import matplotlib.pyplot as plt, seaborn as sns\n",
    "\n",
    "from insurance.data.load import load_raw\n",
    "from insurance.features.engineering import prepare_data\n",
    "from insurance.features.risk_score import add_normalized_risk_score\n",
    "from insurance.features.preprocessing import make_preprocessor\n",
    "from insurance.data.split_age_segments import segment_by_age\n",
    "\n",
    "from sklearn.metrics import mean_absolute_error, r2_score, mean_squared_error\n",
    "from sklearn.model_selection import train_test_split, GridSearchCV, RandomizedSearchCV\n",
    "from sklearn.pipeline import Pipeline\n",
    "from sklearn.ensemble import RandomForestRegressor, GradientBoostingRegressor\n",
    "from xgboost import XGBRegressor\n"
   ]
  },
  {
   "cell_type": "markdown",
   "id": "589c5e25",
   "metadata": {},
   "source": [
    "### Dataset building and splitting"
   ]
  },
  {
   "cell_type": "code",
   "execution_count": 7,
   "id": "d026cf8d",
   "metadata": {},
   "outputs": [
    {
     "name": "stdout",
     "output_type": "stream",
     "text": [
      "Main dataset not found (NDA). Loading sample: premiums_sample.xlsx\n"
     ]
    }
   ],
   "source": [
    "def build_dataset() -> pd.DataFrame:\n",
    "    df = add_normalized_risk_score(prepare_data(load_raw()))\n",
    "    df[\"insurance_plan\"] = df[\"insurance_plan\"].map({\"Bronze\":1,\"Silver\":2,\"Gold\":3})\n",
    "    return df.drop(columns=[\"income_level\"])   # high VIF\n",
    "\n",
    "df = build_dataset()"
   ]
  },
  {
   "cell_type": "code",
   "execution_count": 6,
   "id": "f1121b55",
   "metadata": {},
   "outputs": [],
   "source": [
    "preprocess = make_preprocessor()"
   ]
  },
  {
   "cell_type": "code",
   "execution_count": 7,
   "id": "9d0d4a44",
   "metadata": {},
   "outputs": [
    {
     "name": "stdout",
     "output_type": "stream",
     "text": [
      "✔ Saved 20107 rows → premiums_young.xlsx\n",
      "✔ Saved 29846 rows → premiums_adult.xlsx\n"
     ]
    },
    {
     "data": {
      "text/html": [
       "<div>\n",
       "<style scoped>\n",
       "    .dataframe tbody tr th:only-of-type {\n",
       "        vertical-align: middle;\n",
       "    }\n",
       "\n",
       "    .dataframe tbody tr th {\n",
       "        vertical-align: top;\n",
       "    }\n",
       "\n",
       "    .dataframe thead th {\n",
       "        text-align: right;\n",
       "    }\n",
       "</style>\n",
       "<table border=\"1\" class=\"dataframe\">\n",
       "  <thead>\n",
       "    <tr style=\"text-align: right;\">\n",
       "      <th></th>\n",
       "      <th>age</th>\n",
       "      <th>gender</th>\n",
       "      <th>region</th>\n",
       "      <th>marital_status</th>\n",
       "      <th>number_of_dependants</th>\n",
       "      <th>bmi_category</th>\n",
       "      <th>smoking_status</th>\n",
       "      <th>employment_status</th>\n",
       "      <th>income_lakhs</th>\n",
       "      <th>medical_history</th>\n",
       "      <th>insurance_plan</th>\n",
       "      <th>annual_premium_amount</th>\n",
       "      <th>disease1</th>\n",
       "      <th>disease2</th>\n",
       "      <th>total_risk_score</th>\n",
       "      <th>normalized_risk_score</th>\n",
       "    </tr>\n",
       "  </thead>\n",
       "  <tbody>\n",
       "    <tr>\n",
       "      <th>4</th>\n",
       "      <td>18</td>\n",
       "      <td>Male</td>\n",
       "      <td>Northeast</td>\n",
       "      <td>Unmarried</td>\n",
       "      <td>0</td>\n",
       "      <td>Overweight</td>\n",
       "      <td>Regular</td>\n",
       "      <td>Self-Employed</td>\n",
       "      <td>99</td>\n",
       "      <td>High blood pressure</td>\n",
       "      <td>2</td>\n",
       "      <td>13365</td>\n",
       "      <td>high blood pressure</td>\n",
       "      <td>none</td>\n",
       "      <td>6</td>\n",
       "      <td>0.428571</td>\n",
       "    </tr>\n",
       "    <tr>\n",
       "      <th>9</th>\n",
       "      <td>22</td>\n",
       "      <td>Female</td>\n",
       "      <td>Northwest</td>\n",
       "      <td>Unmarried</td>\n",
       "      <td>0</td>\n",
       "      <td>Underweight</td>\n",
       "      <td>No Smoking</td>\n",
       "      <td>Freelancer</td>\n",
       "      <td>3</td>\n",
       "      <td>No Disease</td>\n",
       "      <td>2</td>\n",
       "      <td>11050</td>\n",
       "      <td>no disease</td>\n",
       "      <td>none</td>\n",
       "      <td>0</td>\n",
       "      <td>0.000000</td>\n",
       "    </tr>\n",
       "  </tbody>\n",
       "</table>\n",
       "</div>"
      ],
      "text/plain": [
       "   age  gender     region marital_status  number_of_dependants bmi_category  \\\n",
       "4   18    Male  Northeast      Unmarried                     0   Overweight   \n",
       "9   22  Female  Northwest      Unmarried                     0  Underweight   \n",
       "\n",
       "  smoking_status employment_status  income_lakhs      medical_history  \\\n",
       "4        Regular     Self-Employed            99  High blood pressure   \n",
       "9     No Smoking        Freelancer             3           No Disease   \n",
       "\n",
       "   insurance_plan  annual_premium_amount             disease1 disease2  \\\n",
       "4               2                  13365  high blood pressure     none   \n",
       "9               2                  11050           no disease     none   \n",
       "\n",
       "   total_risk_score  normalized_risk_score  \n",
       "4                 6               0.428571  \n",
       "9                 0               0.000000  "
      ]
     },
     "execution_count": 7,
     "metadata": {},
     "output_type": "execute_result"
    }
   ],
   "source": [
    "df_young, df_rest = segment_by_age(df=df, age_cutoff=25)\n",
    "df_young.head(2)\n"
   ]
  },
  {
   "cell_type": "code",
   "execution_count": 8,
   "id": "0371402a",
   "metadata": {},
   "outputs": [
    {
     "data": {
      "text/plain": [
       "((20107, 16), (29846, 16))"
      ]
     },
     "execution_count": 8,
     "metadata": {},
     "output_type": "execute_result"
    }
   ],
   "source": [
    "df_young.shape, df_rest.shape"
   ]
  },
  {
   "cell_type": "markdown",
   "id": "0a0b004b",
   "metadata": {},
   "source": [
    "### Models Training"
   ]
  },
  {
   "cell_type": "code",
   "execution_count": 9,
   "id": "b68a164b",
   "metadata": {},
   "outputs": [],
   "source": [
    "X_young = df_young.drop(columns=[\"annual_premium_amount\"])\n",
    "y_young = df_young[\"annual_premium_amount\"]\n",
    "\n",
    "X_train_young, X_test_young, y_train_young, y_test_young = train_test_split(X_young, y_young, test_size=0.2, random_state=42)\n",
    "\n",
    "X_rest = df_rest.drop(columns=[\"annual_premium_amount\"])\n",
    "y_rest = df_rest[\"annual_premium_amount\"]\n",
    "\n",
    "X_train_rest, X_test_rest, y_train_rest, y_test_rest = train_test_split(X_rest, y_rest, test_size=0.2, random_state=42)"
   ]
  },
  {
   "cell_type": "code",
   "execution_count": 10,
   "id": "30aef5a5",
   "metadata": {},
   "outputs": [],
   "source": [
    "models: dict[str, tuple[object, dict]] = {\n",
    "    \"RandomForest\": (\n",
    "        RandomForestRegressor(random_state=42),\n",
    "        {\n",
    "            \"model__n_estimators\": [300],\n",
    "            \"model__max_depth\": [None, 6, 10],\n",
    "            \"model__min_samples_leaf\": [1, 3],\n",
    "        },\n",
    "    ),\n",
    "    \"GBR\": (\n",
    "        GradientBoostingRegressor(random_state=42),\n",
    "        {\n",
    "            \"model__n_estimators\": [300],\n",
    "            \"model__learning_rate\": [0.05, 0.1],\n",
    "            \"model__max_depth\": [2, 3],\n",
    "        },\n",
    "    ),\n",
    "    \"XGB\": (\n",
    "        XGBRegressor(tree_method=\"hist\", random_state=42, n_estimators=400),\n",
    "        {\n",
    "            \"model__learning_rate\": [0.05, 0.1],\n",
    "            \"model__max_depth\": [3, 4, 5],\n",
    "            \"model__subsample\": [0.9, 1.0],\n",
    "        },\n",
    "    ),\n",
    "}"
   ]
  },
  {
   "cell_type": "code",
   "execution_count": 11,
   "id": "8986da6d",
   "metadata": {},
   "outputs": [
    {
     "name": "stdout",
     "output_type": "stream",
     "text": [
      "\n",
      "Segment: YOUNG\n",
      "→ Training RandomForest...\n",
      "→ Training GBR...\n",
      "→ Training XGB...\n",
      "\n",
      "Segment: REST\n",
      "→ Training RandomForest...\n",
      "→ Training GBR...\n",
      "→ Training XGB...\n",
      "Training Done! ✔\n"
     ]
    }
   ],
   "source": [
    "rows = []\n",
    "\n",
    "for segment, (X_tr, X_te, y_tr, y_te) in {\n",
    "    \"young\": (X_train_young, X_test_young, y_train_young, y_test_young),\n",
    "    \"rest\":  (X_train_rest,  X_test_rest,  y_train_rest,  y_test_rest),}.items():\n",
    "    print(f\"\\nSegment: {segment.upper()}\")\n",
    "    \n",
    "    \n",
    "    for name, (estimator, param_grid) in models.items():\n",
    "        print(f\"→ Training {name}...\")\n",
    "        pipe = Pipeline([(\"prep\", preprocess), (\"model\", estimator)])\n",
    "        gs = GridSearchCV(pipe, param_grid, cv=5, scoring=\"neg_mean_absolute_error\",n_jobs=-1, verbose=0)\n",
    "        gs.fit(X_tr, y_tr)\n",
    "        y_pred = gs.best_estimator_.predict(X_te)\n",
    "\n",
    "        pct_err   = np.abs((y_te - y_pred) / y_te)\n",
    "        pct10     = (pct_err < 0.10).mean()          # business KPI\n",
    "        cv_std_mae = -gs.cv_results_[\"std_test_score\"][gs.best_index_]\n",
    "    \n",
    "        rows.append({\n",
    "            \"segment\" : segment,\n",
    "            \"model\": name,\n",
    "            \"cv_MAE\": -gs.best_score_,\n",
    "            \"cv_std\": cv_std_mae,\n",
    "            \"test_MAE\": mean_absolute_error(y_te, y_pred),\n",
    "            \"test_RMSE\": np.sqrt(mean_squared_error(y_te, y_pred)),\n",
    "            \"pct10\": pct10,\n",
    "            \"test_R2\": r2_score(y_te, y_pred),\n",
    "            \"best_params\": gs.best_params_,\n",
    "            \"best_estimator\": gs.best_estimator_,\n",
    "        })\n",
    "print(\"Training Done! ✔\")"
   ]
  },
  {
   "cell_type": "code",
   "execution_count": 12,
   "id": "f8b3c195",
   "metadata": {},
   "outputs": [
    {
     "data": {
      "text/html": [
       "<div>\n",
       "<style scoped>\n",
       "    .dataframe tbody tr th:only-of-type {\n",
       "        vertical-align: middle;\n",
       "    }\n",
       "\n",
       "    .dataframe tbody tr th {\n",
       "        vertical-align: top;\n",
       "    }\n",
       "\n",
       "    .dataframe thead th {\n",
       "        text-align: right;\n",
       "    }\n",
       "</style>\n",
       "<table border=\"1\" class=\"dataframe\">\n",
       "  <thead>\n",
       "    <tr style=\"text-align: right;\">\n",
       "      <th></th>\n",
       "      <th>segment</th>\n",
       "      <th>model</th>\n",
       "      <th>cv_MAE</th>\n",
       "      <th>cv_std</th>\n",
       "      <th>test_MAE</th>\n",
       "      <th>test_RMSE</th>\n",
       "      <th>pct10</th>\n",
       "      <th>test_R2</th>\n",
       "    </tr>\n",
       "  </thead>\n",
       "  <tbody>\n",
       "    <tr>\n",
       "      <th>4</th>\n",
       "      <td>rest</td>\n",
       "      <td>GBR</td>\n",
       "      <td>258.060831</td>\n",
       "      <td>-2.436734</td>\n",
       "      <td>261.379589</td>\n",
       "      <td>316.828771</td>\n",
       "      <td>0.999330</td>\n",
       "      <td>0.997914</td>\n",
       "    </tr>\n",
       "    <tr>\n",
       "      <th>5</th>\n",
       "      <td>rest</td>\n",
       "      <td>XGB</td>\n",
       "      <td>256.435770</td>\n",
       "      <td>-1.590521</td>\n",
       "      <td>260.239136</td>\n",
       "      <td>315.706032</td>\n",
       "      <td>0.999330</td>\n",
       "      <td>0.997928</td>\n",
       "    </tr>\n",
       "    <tr>\n",
       "      <th>3</th>\n",
       "      <td>rest</td>\n",
       "      <td>RandomForest</td>\n",
       "      <td>269.384532</td>\n",
       "      <td>-3.105622</td>\n",
       "      <td>268.389081</td>\n",
       "      <td>332.221423</td>\n",
       "      <td>0.998827</td>\n",
       "      <td>0.997706</td>\n",
       "    </tr>\n",
       "    <tr>\n",
       "      <th>2</th>\n",
       "      <td>young</td>\n",
       "      <td>XGB</td>\n",
       "      <td>1510.836402</td>\n",
       "      <td>-6.360342</td>\n",
       "      <td>1507.331346</td>\n",
       "      <td>1740.876859</td>\n",
       "      <td>0.277971</td>\n",
       "      <td>0.604609</td>\n",
       "    </tr>\n",
       "    <tr>\n",
       "      <th>0</th>\n",
       "      <td>young</td>\n",
       "      <td>RandomForest</td>\n",
       "      <td>1509.846888</td>\n",
       "      <td>-6.338978</td>\n",
       "      <td>1509.713567</td>\n",
       "      <td>1740.735819</td>\n",
       "      <td>0.273247</td>\n",
       "      <td>0.604673</td>\n",
       "    </tr>\n",
       "    <tr>\n",
       "      <th>1</th>\n",
       "      <td>young</td>\n",
       "      <td>GBR</td>\n",
       "      <td>1506.160658</td>\n",
       "      <td>-6.837265</td>\n",
       "      <td>1505.596789</td>\n",
       "      <td>1737.080977</td>\n",
       "      <td>0.272501</td>\n",
       "      <td>0.606332</td>\n",
       "    </tr>\n",
       "  </tbody>\n",
       "</table>\n",
       "</div>"
      ],
      "text/plain": [
       "  segment         model       cv_MAE    cv_std     test_MAE    test_RMSE  \\\n",
       "4    rest           GBR   258.060831 -2.436734   261.379589   316.828771   \n",
       "5    rest           XGB   256.435770 -1.590521   260.239136   315.706032   \n",
       "3    rest  RandomForest   269.384532 -3.105622   268.389081   332.221423   \n",
       "2   young           XGB  1510.836402 -6.360342  1507.331346  1740.876859   \n",
       "0   young  RandomForest  1509.846888 -6.338978  1509.713567  1740.735819   \n",
       "1   young           GBR  1506.160658 -6.837265  1505.596789  1737.080977   \n",
       "\n",
       "      pct10   test_R2  \n",
       "4  0.999330  0.997914  \n",
       "5  0.999330  0.997928  \n",
       "3  0.998827  0.997706  \n",
       "2  0.277971  0.604609  \n",
       "0  0.273247  0.604673  \n",
       "1  0.272501  0.606332  "
      ]
     },
     "metadata": {},
     "output_type": "display_data"
    }
   ],
   "source": [
    "results = pd.DataFrame(rows).sort_values(\"pct10\", ascending=False)\n",
    "display(results[['segment','model','cv_MAE','cv_std','test_MAE','test_RMSE','pct10','test_R2']])\n"
   ]
  },
  {
   "cell_type": "markdown",
   "id": "a9aa726c",
   "metadata": {},
   "source": [
    "### Conclusion:\n",
    "Clearly, there is a huge disproportion between how every model operates, where it comes to age group distribution. To try fixing this problem, I'll try to either collect more data, which can be helpful, or try different feature engineering techniques."
   ]
  },
  {
   "cell_type": "code",
   "execution_count": 13,
   "id": "74575581",
   "metadata": {},
   "outputs": [
    {
     "name": "stdout",
     "output_type": "stream",
     "text": [
      "✔ saved → c:\\Users\\USER\\Desktop\\projects\\Health Insurance Model\\src\\insurance\\models\\premium_rest_GBR_20250530.joblib\n",
      "✔ saved → c:\\Users\\USER\\Desktop\\projects\\Health Insurance Model\\src\\insurance\\models\\premium_rest_XGB_20250530.joblib\n",
      "✔ saved → c:\\Users\\USER\\Desktop\\projects\\Health Insurance Model\\src\\insurance\\models\\premium_rest_RandomForest_20250530.joblib\n",
      "✔ saved → c:\\Users\\USER\\Desktop\\projects\\Health Insurance Model\\src\\insurance\\models\\premium_young_XGB_20250530.joblib\n",
      "✔ saved → c:\\Users\\USER\\Desktop\\projects\\Health Insurance Model\\src\\insurance\\models\\premium_young_RandomForest_20250530.joblib\n",
      "✔ saved → c:\\Users\\USER\\Desktop\\projects\\Health Insurance Model\\src\\insurance\\models\\premium_young_GBR_20250530.joblib\n"
     ]
    }
   ],
   "source": [
    "MODEL_DIR = pathlib.Path.cwd().parent / \"src\" / \"insurance\" / \"models\"\n",
    "MODEL_DIR.mkdir(parents=True, exist_ok=True)\n",
    "\n",
    "for row in results.itertuples():\n",
    "    segment = row.segment               \n",
    "    name  = row.model                           \n",
    "    pipe  = row.best_estimator                 \n",
    "\n",
    "    stamp = dt.datetime.now().strftime(\"%Y%m%d\")\n",
    "    fname = MODEL_DIR / f\"premium_{segment}_{name}_{stamp}.joblib\"\n",
    "\n",
    "    joblib.dump(pipe, fname)\n",
    "    print(\"✔ saved →\", fname)"
   ]
  },
  {
   "cell_type": "code",
   "execution_count": null,
   "id": "19a53a3f",
   "metadata": {},
   "outputs": [],
   "source": []
  }
 ],
 "metadata": {
  "kernelspec": {
   "display_name": ".venv",
   "language": "python",
   "name": "python3"
  },
  "language_info": {
   "codemirror_mode": {
    "name": "ipython",
    "version": 3
   },
   "file_extension": ".py",
   "mimetype": "text/x-python",
   "name": "python",
   "nbconvert_exporter": "python",
   "pygments_lexer": "ipython3",
   "version": "3.11.3"
  }
 },
 "nbformat": 4,
 "nbformat_minor": 5
}
