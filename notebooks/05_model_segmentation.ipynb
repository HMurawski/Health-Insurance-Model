{
 "cells": [
  {
   "cell_type": "code",
   "execution_count": null,
   "id": "ff43d5bb",
   "metadata": {},
   "outputs": [
    {
     "name": "stdout",
     "output_type": "stream",
     "text": [
      "Obtaining file:///C:/Users/USER/Desktop/projects/Health%20Insurance%20Model\n",
      "  Installing build dependencies: started\n",
      "  Installing build dependencies: finished with status 'done'\n",
      "  Checking if build backend supports build_editable: started\n",
      "  Checking if build backend supports build_editable: finished with status 'done'\n",
      "  Getting requirements to build editable: started\n",
      "  Getting requirements to build editable: finished with status 'done'\n",
      "  Preparing editable metadata (pyproject.toml): started\n",
      "  Preparing editable metadata (pyproject.toml): finished with status 'done'\n",
      "Building wheels for collected packages: insurance\n",
      "  Building editable for insurance (pyproject.toml): started\n",
      "  Building editable for insurance (pyproject.toml): finished with status 'done'\n",
      "  Created wheel for insurance: filename=insurance-0.1.0-0.editable-py3-none-any.whl size=1307 sha256=f0145ce96d5a17704ea06879e40b22c86047c7f8b93d377401ddb99b989c8203\n",
      "  Stored in directory: C:\\Users\\USER\\AppData\\Local\\Temp\\pip-ephem-wheel-cache-wm90shh3\\wheels\\c7\\86\\56\\d85e9c1741a69fba656bf71ca03f3a47f095a7d6e6dbdb57d0\n",
      "Successfully built insurance\n",
      "Installing collected packages: insurance\n",
      "  Attempting uninstall: insurance\n",
      "    Found existing installation: insurance 0.1.0\n",
      "    Uninstalling insurance-0.1.0:\n",
      "      Successfully uninstalled insurance-0.1.0\n",
      "Successfully installed insurance-0.1.0\n",
      "Note: you may need to restart the kernel to use updated packages.\n"
     ]
    },
    {
     "name": "stderr",
     "output_type": "stream",
     "text": [
      "\n",
      "[notice] A new release of pip is available: 25.0 -> 25.1.1\n",
      "[notice] To update, run: python.exe -m pip install --upgrade pip\n"
     ]
    }
   ],
   "source": [
    "%pip install -e ..\n",
    "%load_ext autoreload\n",
    "%autoreload 2"
   ]
  },
  {
   "cell_type": "code",
   "execution_count": 14,
   "id": "bf5090ea",
   "metadata": {},
   "outputs": [],
   "source": [
    "\n",
    "import pandas as pd, numpy as np, joblib, pathlib, datetime as dt\n",
    "import matplotlib.pyplot as plt, seaborn as sns\n",
    "\n",
    "from insurance.data.load import load_raw\n",
    "from insurance.features.engineering import prepare_data\n",
    "from insurance.features.risk_score import add_normalized_risk_score\n",
    "from insurance.features.preprocessing import make_preprocessor\n",
    "from insurance.data.split_age_segments import segment_by_age\n",
    "\n",
    "from sklearn.metrics import mean_absolute_error, r2_score, mean_squared_error\n",
    "from sklearn.model_selection import train_test_split, GridSearchCV, RandomizedSearchCV\n",
    "from sklearn.pipeline import Pipeline\n",
    "from sklearn.ensemble import RandomForestRegressor, GradientBoostingRegressor\n",
    "from xgboost import XGBRegressor\n"
   ]
  },
  {
   "cell_type": "code",
   "execution_count": 2,
   "id": "d026cf8d",
   "metadata": {},
   "outputs": [],
   "source": [
    "def build_dataset() -> pd.DataFrame:\n",
    "    df = add_normalized_risk_score(prepare_data(load_raw()))\n",
    "    df[\"insurance_plan\"] = df[\"insurance_plan\"].map({\"Bronze\":1,\"Silver\":2,\"Gold\":3})\n",
    "    return df.drop(columns=[\"income_level\"])   # high VIF\n",
    "\n",
    "df = build_dataset()"
   ]
  },
  {
   "cell_type": "code",
   "execution_count": 5,
   "id": "f1121b55",
   "metadata": {},
   "outputs": [],
   "source": [
    "preprocess = make_preprocessor()"
   ]
  },
  {
   "cell_type": "code",
   "execution_count": 15,
   "id": "9d0d4a44",
   "metadata": {},
   "outputs": [
    {
     "name": "stdout",
     "output_type": "stream",
     "text": [
      "✔ Saved 20107 rows → premiums_young.xlsx\n",
      "✔ Saved 29846 rows → premiums_adult.xlsx\n"
     ]
    },
    {
     "data": {
      "text/html": [
       "<div>\n",
       "<style scoped>\n",
       "    .dataframe tbody tr th:only-of-type {\n",
       "        vertical-align: middle;\n",
       "    }\n",
       "\n",
       "    .dataframe tbody tr th {\n",
       "        vertical-align: top;\n",
       "    }\n",
       "\n",
       "    .dataframe thead th {\n",
       "        text-align: right;\n",
       "    }\n",
       "</style>\n",
       "<table border=\"1\" class=\"dataframe\">\n",
       "  <thead>\n",
       "    <tr style=\"text-align: right;\">\n",
       "      <th></th>\n",
       "      <th>age</th>\n",
       "      <th>gender</th>\n",
       "      <th>region</th>\n",
       "      <th>marital_status</th>\n",
       "      <th>number_of_dependants</th>\n",
       "      <th>bmi_category</th>\n",
       "      <th>smoking_status</th>\n",
       "      <th>employment_status</th>\n",
       "      <th>income_lakhs</th>\n",
       "      <th>medical_history</th>\n",
       "      <th>insurance_plan</th>\n",
       "      <th>annual_premium_amount</th>\n",
       "      <th>disease1</th>\n",
       "      <th>disease2</th>\n",
       "      <th>total_risk_score</th>\n",
       "      <th>normalized_risk_score</th>\n",
       "    </tr>\n",
       "  </thead>\n",
       "  <tbody>\n",
       "    <tr>\n",
       "      <th>4</th>\n",
       "      <td>18</td>\n",
       "      <td>Male</td>\n",
       "      <td>Northeast</td>\n",
       "      <td>Unmarried</td>\n",
       "      <td>0</td>\n",
       "      <td>Overweight</td>\n",
       "      <td>Regular</td>\n",
       "      <td>Self-Employed</td>\n",
       "      <td>99</td>\n",
       "      <td>High blood pressure</td>\n",
       "      <td>2</td>\n",
       "      <td>13365</td>\n",
       "      <td>high blood pressure</td>\n",
       "      <td>none</td>\n",
       "      <td>6</td>\n",
       "      <td>0.428571</td>\n",
       "    </tr>\n",
       "    <tr>\n",
       "      <th>9</th>\n",
       "      <td>22</td>\n",
       "      <td>Female</td>\n",
       "      <td>Northwest</td>\n",
       "      <td>Unmarried</td>\n",
       "      <td>0</td>\n",
       "      <td>Underweight</td>\n",
       "      <td>No Smoking</td>\n",
       "      <td>Freelancer</td>\n",
       "      <td>3</td>\n",
       "      <td>No Disease</td>\n",
       "      <td>2</td>\n",
       "      <td>11050</td>\n",
       "      <td>no disease</td>\n",
       "      <td>none</td>\n",
       "      <td>0</td>\n",
       "      <td>0.000000</td>\n",
       "    </tr>\n",
       "  </tbody>\n",
       "</table>\n",
       "</div>"
      ],
      "text/plain": [
       "   age  gender     region marital_status  number_of_dependants bmi_category  \\\n",
       "4   18    Male  Northeast      Unmarried                     0   Overweight   \n",
       "9   22  Female  Northwest      Unmarried                     0  Underweight   \n",
       "\n",
       "  smoking_status employment_status  income_lakhs      medical_history  \\\n",
       "4        Regular     Self-Employed            99  High blood pressure   \n",
       "9     No Smoking        Freelancer             3           No Disease   \n",
       "\n",
       "   insurance_plan  annual_premium_amount             disease1 disease2  \\\n",
       "4               2                  13365  high blood pressure     none   \n",
       "9               2                  11050           no disease     none   \n",
       "\n",
       "   total_risk_score  normalized_risk_score  \n",
       "4                 6               0.428571  \n",
       "9                 0               0.000000  "
      ]
     },
     "execution_count": 15,
     "metadata": {},
     "output_type": "execute_result"
    }
   ],
   "source": [
    "df_young, df_rest = segment_by_age(df=df, age_cutoff=25)\n",
    "df_young.head(2)\n"
   ]
  },
  {
   "cell_type": "code",
   "execution_count": 16,
   "id": "0371402a",
   "metadata": {},
   "outputs": [
    {
     "data": {
      "text/plain": [
       "((20107, 16), (29846, 16))"
      ]
     },
     "execution_count": 16,
     "metadata": {},
     "output_type": "execute_result"
    }
   ],
   "source": [
    "df_young.shape, df_rest.shape"
   ]
  },
  {
   "cell_type": "code",
   "execution_count": 4,
   "id": "30aef5a5",
   "metadata": {},
   "outputs": [],
   "source": [
    "models: dict[str, tuple[object, dict]] = {\n",
    "    \"RandomForest\": (\n",
    "        RandomForestRegressor(random_state=42),\n",
    "        {\n",
    "            \"model__n_estimators\": [300],\n",
    "            \"model__max_depth\": [None, 6, 10],\n",
    "            \"model__min_samples_leaf\": [1, 3],\n",
    "        },\n",
    "    ),\n",
    "    \"GBR\": (\n",
    "        GradientBoostingRegressor(random_state=42),\n",
    "        {\n",
    "            \"model__n_estimators\": [300],\n",
    "            \"model__learning_rate\": [0.05, 0.1],\n",
    "            \"model__max_depth\": [2, 3],\n",
    "        },\n",
    "    ),\n",
    "    \"XGB\": (\n",
    "        XGBRegressor(tree_method=\"hist\", random_state=42, n_estimators=400),\n",
    "        {\n",
    "            \"model__learning_rate\": [0.05, 0.1],\n",
    "            \"model__max_depth\": [3, 4, 5],\n",
    "            \"model__subsample\": [0.9, 1.0],\n",
    "        },\n",
    "    ),\n",
    "}"
   ]
  },
  {
   "cell_type": "code",
   "execution_count": null,
   "id": "8986da6d",
   "metadata": {},
   "outputs": [],
   "source": [
    "rows = []\n",
    "\n",
    "for name, (estimator, param_grid) in models.items():\n",
    "    pipe = Pipeline([(\"prep\", preprocess), (\"model\", estimator)])\n",
    "    gs   = GridSearchCV(pipe, param_grid, cv=5, scoring=\"neg_mean_absolute_error\",\n",
    "                        n_jobs=-1, verbose=0)\n",
    "\n",
    "    gs.fit(X_train, y_train)\n",
    "    y_pred = gs.best_estimator_.predict(X_test)\n",
    "\n",
    "    pct_err   = np.abs((y_test - y_pred) / y_test)\n",
    "    pct10     = (pct_err < 0.10).mean()          # business KPI\n",
    "    cv_std_mae = -gs.cv_results_[\"std_test_score\"][gs.best_index_]\n",
    "\n",
    "    rows.append({\n",
    "        \"model\": name,\n",
    "        \"cv_MAE\": -gs.best_score_,\n",
    "        \"cv_std\": cv_std_mae,\n",
    "        \"test_MAE\": mean_absolute_error(y_test, y_pred),\n",
    "        \"test_RMSE\": np.sqrt(mean_squared_error(y_test, y_pred)),\n",
    "        \"pct10\": pct10,\n",
    "        \"test_R2\": r2_score(y_test, y_pred),\n",
    "        \"best_params\": gs.best_params_,\n",
    "        \"best_estimator\": gs.best_estimator_,\n",
    "    })"
   ]
  },
  {
   "cell_type": "code",
   "execution_count": null,
   "id": "f8b3c195",
   "metadata": {},
   "outputs": [],
   "source": [
    "results = pd.DataFrame(rows).sort_values(\"pct10\", ascending=False)\n",
    "display(results[['model','cv_MAE','cv_std','test_MAE','test_RMSE','pct10','test_R2']])"
   ]
  }
 ],
 "metadata": {
  "kernelspec": {
   "display_name": ".venv",
   "language": "python",
   "name": "python3"
  },
  "language_info": {
   "codemirror_mode": {
    "name": "ipython",
    "version": 3
   },
   "file_extension": ".py",
   "mimetype": "text/x-python",
   "name": "python",
   "nbconvert_exporter": "python",
   "pygments_lexer": "ipython3",
   "version": "3.11.3"
  }
 },
 "nbformat": 4,
 "nbformat_minor": 5
}
