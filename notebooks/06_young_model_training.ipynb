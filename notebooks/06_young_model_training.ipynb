{
 "cells": [
  {
   "cell_type": "code",
   "execution_count": 1,
   "id": "09d46222",
   "metadata": {},
   "outputs": [
    {
     "name": "stderr",
     "output_type": "stream",
     "text": [
      "\n",
      "[notice] A new release of pip is available: 25.0 -> 25.1.1\n",
      "[notice] To update, run: python.exe -m pip install --upgrade pip\n"
     ]
    },
    {
     "name": "stdout",
     "output_type": "stream",
     "text": [
      "Obtaining file:///C:/Users/USER/Desktop/projects/Health%20Insurance%20Model\n",
      "  Installing build dependencies: started\n",
      "  Installing build dependencies: finished with status 'done'\n",
      "  Checking if build backend supports build_editable: started\n",
      "  Checking if build backend supports build_editable: finished with status 'done'\n",
      "  Getting requirements to build editable: started\n",
      "  Getting requirements to build editable: finished with status 'done'\n",
      "  Preparing editable metadata (pyproject.toml): started\n",
      "  Preparing editable metadata (pyproject.toml): finished with status 'done'\n",
      "Building wheels for collected packages: insurance\n",
      "  Building editable for insurance (pyproject.toml): started\n",
      "  Building editable for insurance (pyproject.toml): finished with status 'done'\n",
      "  Created wheel for insurance: filename=insurance-0.1.0-0.editable-py3-none-any.whl size=1307 sha256=ed701ab722f164ffaf59fa88b60eef5363b8ba8898ec93e7d3eb834ca9a54efd\n",
      "  Stored in directory: C:\\Users\\USER\\AppData\\Local\\Temp\\pip-ephem-wheel-cache-zy1ep36d\\wheels\\c7\\86\\56\\d85e9c1741a69fba656bf71ca03f3a47f095a7d6e6dbdb57d0\n",
      "Successfully built insurance\n",
      "Installing collected packages: insurance\n",
      "  Attempting uninstall: insurance\n",
      "    Found existing installation: insurance 0.1.0\n",
      "    Uninstalling insurance-0.1.0:\n",
      "      Successfully uninstalled insurance-0.1.0\n",
      "Successfully installed insurance-0.1.0\n",
      "Note: you may need to restart the kernel to use updated packages.\n"
     ]
    }
   ],
   "source": [
    "%pip install -e ..\n",
    "%load_ext autoreload\n",
    "%autoreload 2"
   ]
  },
  {
   "cell_type": "code",
   "execution_count": 13,
   "id": "92cf535f",
   "metadata": {},
   "outputs": [],
   "source": [
    "import pandas as pd, numpy as np, joblib, pathlib, datetime as dt\n",
    "from sklearn.model_selection import train_test_split, GridSearchCV, cross_val_score\n",
    "from sklearn.linear_model import Ridge, Lasso, ElasticNet\n",
    "from sklearn.ensemble import RandomForestRegressor, GradientBoostingRegressor\n",
    "from xgboost import XGBRegressor\n",
    "from sklearn.pipeline import Pipeline\n",
    "from sklearn.metrics import mean_absolute_error, r2_score, mean_squared_error\n",
    "from sklearn.inspection import permutation_importance\n",
    "import matplotlib.pyplot as plt\n",
    "import seaborn as sns\n",
    "\n",
    "from insurance.data.load import load_raw, AGE_PATH\n",
    "from insurance.features.engineering import prepare_data, label_encode_categoricals\n",
    "from insurance.features.risk_score import add_normalized_risk_score\n",
    "from insurance.features.preprocessing import make_preprocessor_young"
   ]
  },
  {
   "cell_type": "markdown",
   "id": "53f9fd39",
   "metadata": {},
   "source": [
    "### Dataset building for Young Segment - including new feature: Genetical_Risk"
   ]
  },
  {
   "cell_type": "code",
   "execution_count": 7,
   "id": "76968c42",
   "metadata": {},
   "outputs": [
    {
     "data": {
      "text/html": [
       "<div>\n",
       "<style scoped>\n",
       "    .dataframe tbody tr th:only-of-type {\n",
       "        vertical-align: middle;\n",
       "    }\n",
       "\n",
       "    .dataframe tbody tr th {\n",
       "        vertical-align: top;\n",
       "    }\n",
       "\n",
       "    .dataframe thead th {\n",
       "        text-align: right;\n",
       "    }\n",
       "</style>\n",
       "<table border=\"1\" class=\"dataframe\">\n",
       "  <thead>\n",
       "    <tr style=\"text-align: right;\">\n",
       "      <th></th>\n",
       "      <th>Age</th>\n",
       "      <th>Gender</th>\n",
       "      <th>Region</th>\n",
       "      <th>Marital_status</th>\n",
       "      <th>Number Of Dependants</th>\n",
       "      <th>BMI_Category</th>\n",
       "      <th>Smoking_Status</th>\n",
       "      <th>Employment_Status</th>\n",
       "      <th>Income_Level</th>\n",
       "      <th>Income_Lakhs</th>\n",
       "      <th>Medical History</th>\n",
       "      <th>Insurance_Plan</th>\n",
       "      <th>Annual_Premium_Amount</th>\n",
       "      <th>Genetical_Risk</th>\n",
       "    </tr>\n",
       "  </thead>\n",
       "  <tbody>\n",
       "    <tr>\n",
       "      <th>6429</th>\n",
       "      <td>24</td>\n",
       "      <td>Male</td>\n",
       "      <td>Northwest</td>\n",
       "      <td>Unmarried</td>\n",
       "      <td>0</td>\n",
       "      <td>Normal</td>\n",
       "      <td>No Smoking</td>\n",
       "      <td>Freelancer</td>\n",
       "      <td>25L - 40L</td>\n",
       "      <td>31</td>\n",
       "      <td>Diabetes</td>\n",
       "      <td>Bronze</td>\n",
       "      <td>4650</td>\n",
       "      <td>0</td>\n",
       "    </tr>\n",
       "  </tbody>\n",
       "</table>\n",
       "</div>"
      ],
      "text/plain": [
       "      Age Gender     Region Marital_status  Number Of Dependants BMI_Category  \\\n",
       "6429   24   Male  Northwest      Unmarried                     0       Normal   \n",
       "\n",
       "     Smoking_Status Employment_Status Income_Level  Income_Lakhs  \\\n",
       "6429     No Smoking        Freelancer    25L - 40L            31   \n",
       "\n",
       "     Medical History Insurance_Plan  Annual_Premium_Amount  Genetical_Risk  \n",
       "6429        Diabetes         Bronze                   4650               0  "
      ]
     },
     "execution_count": 7,
     "metadata": {},
     "output_type": "execute_result"
    }
   ],
   "source": [
    "df = load_raw(AGE_PATH)\n",
    "df.sample(1)"
   ]
  },
  {
   "cell_type": "code",
   "execution_count": 8,
   "id": "cba1abc5",
   "metadata": {},
   "outputs": [
    {
     "data": {
      "text/html": [
       "<div>\n",
       "<style scoped>\n",
       "    .dataframe tbody tr th:only-of-type {\n",
       "        vertical-align: middle;\n",
       "    }\n",
       "\n",
       "    .dataframe tbody tr th {\n",
       "        vertical-align: top;\n",
       "    }\n",
       "\n",
       "    .dataframe thead th {\n",
       "        text-align: right;\n",
       "    }\n",
       "</style>\n",
       "<table border=\"1\" class=\"dataframe\">\n",
       "  <thead>\n",
       "    <tr style=\"text-align: right;\">\n",
       "      <th></th>\n",
       "      <th>age</th>\n",
       "      <th>gender</th>\n",
       "      <th>region</th>\n",
       "      <th>marital_status</th>\n",
       "      <th>number_of_dependants</th>\n",
       "      <th>bmi_category</th>\n",
       "      <th>smoking_status</th>\n",
       "      <th>employment_status</th>\n",
       "      <th>income_level</th>\n",
       "      <th>income_lakhs</th>\n",
       "      <th>medical_history</th>\n",
       "      <th>insurance_plan</th>\n",
       "      <th>annual_premium_amount</th>\n",
       "      <th>genetical_risk</th>\n",
       "      <th>disease1</th>\n",
       "      <th>disease2</th>\n",
       "      <th>total_risk_score</th>\n",
       "      <th>normalized_risk_score</th>\n",
       "    </tr>\n",
       "  </thead>\n",
       "  <tbody>\n",
       "    <tr>\n",
       "      <th>2149</th>\n",
       "      <td>20</td>\n",
       "      <td>Male</td>\n",
       "      <td>Northeast</td>\n",
       "      <td>Unmarried</td>\n",
       "      <td>0</td>\n",
       "      <td>Normal</td>\n",
       "      <td>Occasional</td>\n",
       "      <td>Freelancer</td>\n",
       "      <td>&lt;10L</td>\n",
       "      <td>3</td>\n",
       "      <td>No Disease</td>\n",
       "      <td>Bronze</td>\n",
       "      <td>5395</td>\n",
       "      <td>1</td>\n",
       "      <td>no disease</td>\n",
       "      <td>none</td>\n",
       "      <td>0</td>\n",
       "      <td>0.0</td>\n",
       "    </tr>\n",
       "  </tbody>\n",
       "</table>\n",
       "</div>"
      ],
      "text/plain": [
       "      age gender     region marital_status  number_of_dependants bmi_category  \\\n",
       "2149   20   Male  Northeast      Unmarried                     0       Normal   \n",
       "\n",
       "     smoking_status employment_status income_level  income_lakhs  \\\n",
       "2149     Occasional        Freelancer         <10L             3   \n",
       "\n",
       "     medical_history insurance_plan  annual_premium_amount  genetical_risk  \\\n",
       "2149      No Disease         Bronze                   5395               1   \n",
       "\n",
       "        disease1 disease2  total_risk_score  normalized_risk_score  \n",
       "2149  no disease     none                 0                    0.0  "
      ]
     },
     "execution_count": 8,
     "metadata": {},
     "output_type": "execute_result"
    }
   ],
   "source": [
    "df = prepare_data(df)\n",
    "df = add_normalized_risk_score(df)\n",
    "df.sample(1)"
   ]
  },
  {
   "cell_type": "code",
   "execution_count": 11,
   "id": "26637ec9",
   "metadata": {},
   "outputs": [
    {
     "data": {
      "text/html": [
       "<div>\n",
       "<style scoped>\n",
       "    .dataframe tbody tr th:only-of-type {\n",
       "        vertical-align: middle;\n",
       "    }\n",
       "\n",
       "    .dataframe tbody tr th {\n",
       "        vertical-align: top;\n",
       "    }\n",
       "\n",
       "    .dataframe thead th {\n",
       "        text-align: right;\n",
       "    }\n",
       "</style>\n",
       "<table border=\"1\" class=\"dataframe\">\n",
       "  <thead>\n",
       "    <tr style=\"text-align: right;\">\n",
       "      <th></th>\n",
       "      <th>age</th>\n",
       "      <th>gender</th>\n",
       "      <th>region</th>\n",
       "      <th>marital_status</th>\n",
       "      <th>number_of_dependants</th>\n",
       "      <th>bmi_category</th>\n",
       "      <th>smoking_status</th>\n",
       "      <th>employment_status</th>\n",
       "      <th>income_lakhs</th>\n",
       "      <th>medical_history</th>\n",
       "      <th>insurance_plan</th>\n",
       "      <th>annual_premium_amount</th>\n",
       "      <th>genetical_risk</th>\n",
       "      <th>disease1</th>\n",
       "      <th>disease2</th>\n",
       "      <th>total_risk_score</th>\n",
       "      <th>normalized_risk_score</th>\n",
       "    </tr>\n",
       "  </thead>\n",
       "  <tbody>\n",
       "    <tr>\n",
       "      <th>3721</th>\n",
       "      <td>21</td>\n",
       "      <td>Male</td>\n",
       "      <td>Southwest</td>\n",
       "      <td>Unmarried</td>\n",
       "      <td>2</td>\n",
       "      <td>Normal</td>\n",
       "      <td>Occasional</td>\n",
       "      <td>Salaried</td>\n",
       "      <td>16</td>\n",
       "      <td>No Disease</td>\n",
       "      <td>0</td>\n",
       "      <td>4276</td>\n",
       "      <td>0</td>\n",
       "      <td>no disease</td>\n",
       "      <td>none</td>\n",
       "      <td>0</td>\n",
       "      <td>0.0</td>\n",
       "    </tr>\n",
       "  </tbody>\n",
       "</table>\n",
       "</div>"
      ],
      "text/plain": [
       "      age gender     region marital_status  number_of_dependants bmi_category  \\\n",
       "3721   21   Male  Southwest      Unmarried                     2       Normal   \n",
       "\n",
       "     smoking_status employment_status  income_lakhs medical_history  \\\n",
       "3721     Occasional          Salaried            16      No Disease   \n",
       "\n",
       "      insurance_plan  annual_premium_amount  genetical_risk    disease1  \\\n",
       "3721               0                   4276               0  no disease   \n",
       "\n",
       "     disease2  total_risk_score  normalized_risk_score  \n",
       "3721     none                 0                    0.0  "
      ]
     },
     "execution_count": 11,
     "metadata": {},
     "output_type": "execute_result"
    }
   ],
   "source": [
    "df = label_encode_categoricals(df)\n",
    "df.sample(1)"
   ]
  },
  {
   "cell_type": "markdown",
   "id": "5c75dd84",
   "metadata": {},
   "source": [
    "### Young Model Training"
   ]
  },
  {
   "cell_type": "code",
   "execution_count": 14,
   "id": "2d07d484",
   "metadata": {},
   "outputs": [],
   "source": [
    "X = df.drop(columns=[\"annual_premium_amount\"])\n",
    "y = df[\"annual_premium_amount\"]\n",
    "\n",
    "X_train, X_test, y_train, y_test = train_test_split(X, y, test_size=0.2, random_state=42)\n",
    "\n",
    "preprocess = make_preprocessor_young()"
   ]
  },
  {
   "cell_type": "code",
   "execution_count": 15,
   "id": "2c87f7e3",
   "metadata": {},
   "outputs": [],
   "source": [
    "models: dict[str, tuple[object, dict]] = {\n",
    "    \"RandomForest\": (\n",
    "        RandomForestRegressor(random_state=42),\n",
    "        {\n",
    "            \"model__n_estimators\": [300],\n",
    "            \"model__max_depth\": [None, 6, 10],\n",
    "            \"model__min_samples_leaf\": [1, 3],\n",
    "        },\n",
    "    ),\n",
    "    \"GBR\": (\n",
    "        GradientBoostingRegressor(random_state=42),\n",
    "        {\n",
    "            \"model__n_estimators\": [300],\n",
    "            \"model__learning_rate\": [0.05, 0.1],\n",
    "            \"model__max_depth\": [2, 3],\n",
    "        },\n",
    "    ),\n",
    "    \"XGB\": (\n",
    "        XGBRegressor(tree_method=\"hist\", random_state=42, n_estimators=400),\n",
    "        {\n",
    "            \"model__learning_rate\": [0.05, 0.1],\n",
    "            \"model__max_depth\": [3, 4, 5],\n",
    "            \"model__subsample\": [0.9, 1.0],\n",
    "        },\n",
    "    ),\n",
    "}"
   ]
  },
  {
   "cell_type": "markdown",
   "id": "f37f5698",
   "metadata": {},
   "source": [
    "### Model Evaluation"
   ]
  },
  {
   "cell_type": "code",
   "execution_count": 17,
   "id": "f783ce32",
   "metadata": {},
   "outputs": [
    {
     "name": "stdout",
     "output_type": "stream",
     "text": [
      "→ Training RandomForest...\n",
      "→ Training GBR...\n",
      "→ Training XGB...\n",
      "Training Done! ✔\n"
     ]
    }
   ],
   "source": [
    "rows = []\n",
    "\n",
    "for name, (estimator, param_grid) in models.items():\n",
    "    print(f\"→ Training {name}...\")\n",
    "    pipe = Pipeline([(\"prep\", preprocess), (\"model\", estimator)])\n",
    "    gs   = GridSearchCV(pipe, param_grid, cv=5, scoring=\"neg_mean_absolute_error\",\n",
    "                        n_jobs=-1, verbose=0)\n",
    "\n",
    "    gs.fit(X_train, y_train)\n",
    "    y_pred = gs.best_estimator_.predict(X_test)\n",
    "\n",
    "    pct_err   = np.abs((y_test - y_pred) / y_test)\n",
    "    pct10     = (pct_err < 0.10).mean()          # business KPI\n",
    "    cv_std_mae = -gs.cv_results_[\"std_test_score\"][gs.best_index_]\n",
    "\n",
    "    rows.append({\n",
    "        \"model\": name,\n",
    "        \"cv_MAE\": -gs.best_score_,\n",
    "        \"cv_std\": cv_std_mae,\n",
    "        \"test_MAE\": mean_absolute_error(y_test, y_pred),\n",
    "        \"test_RMSE\": np.sqrt(mean_squared_error(y_test, y_pred)),\n",
    "        \"pct10\": pct10,\n",
    "        \"test_R2\": r2_score(y_test, y_pred),\n",
    "        \"best_params\": gs.best_params_,\n",
    "        \"best_estimator\": gs.best_estimator_,\n",
    "    })\n",
    "print(\"Training Done! ✔\")"
   ]
  },
  {
   "cell_type": "code",
   "execution_count": 18,
   "id": "06f18340",
   "metadata": {},
   "outputs": [
    {
     "data": {
      "text/html": [
       "<div>\n",
       "<style scoped>\n",
       "    .dataframe tbody tr th:only-of-type {\n",
       "        vertical-align: middle;\n",
       "    }\n",
       "\n",
       "    .dataframe tbody tr th {\n",
       "        vertical-align: top;\n",
       "    }\n",
       "\n",
       "    .dataframe thead th {\n",
       "        text-align: right;\n",
       "    }\n",
       "</style>\n",
       "<table border=\"1\" class=\"dataframe\">\n",
       "  <thead>\n",
       "    <tr style=\"text-align: right;\">\n",
       "      <th></th>\n",
       "      <th>model</th>\n",
       "      <th>cv_MAE</th>\n",
       "      <th>cv_std</th>\n",
       "      <th>test_MAE</th>\n",
       "      <th>test_RMSE</th>\n",
       "      <th>pct10</th>\n",
       "      <th>test_R2</th>\n",
       "    </tr>\n",
       "  </thead>\n",
       "  <tbody>\n",
       "    <tr>\n",
       "      <th>2</th>\n",
       "      <td>XGB</td>\n",
       "      <td>250.381219</td>\n",
       "      <td>-2.260567</td>\n",
       "      <td>255.745728</td>\n",
       "      <td>294.403966</td>\n",
       "      <td>0.980587</td>\n",
       "      <td>0.988594</td>\n",
       "    </tr>\n",
       "    <tr>\n",
       "      <th>1</th>\n",
       "      <td>GBR</td>\n",
       "      <td>249.949419</td>\n",
       "      <td>-2.262933</td>\n",
       "      <td>255.786821</td>\n",
       "      <td>294.460495</td>\n",
       "      <td>0.980090</td>\n",
       "      <td>0.988589</td>\n",
       "    </tr>\n",
       "    <tr>\n",
       "      <th>0</th>\n",
       "      <td>RandomForest</td>\n",
       "      <td>259.769159</td>\n",
       "      <td>-2.808782</td>\n",
       "      <td>264.330142</td>\n",
       "      <td>309.049151</td>\n",
       "      <td>0.975859</td>\n",
       "      <td>0.987431</td>\n",
       "    </tr>\n",
       "  </tbody>\n",
       "</table>\n",
       "</div>"
      ],
      "text/plain": [
       "          model      cv_MAE    cv_std    test_MAE   test_RMSE     pct10  \\\n",
       "2           XGB  250.381219 -2.260567  255.745728  294.403966  0.980587   \n",
       "1           GBR  249.949419 -2.262933  255.786821  294.460495  0.980090   \n",
       "0  RandomForest  259.769159 -2.808782  264.330142  309.049151  0.975859   \n",
       "\n",
       "    test_R2  \n",
       "2  0.988594  \n",
       "1  0.988589  \n",
       "0  0.987431  "
      ]
     },
     "metadata": {},
     "output_type": "display_data"
    }
   ],
   "source": [
    "results = pd.DataFrame(rows).sort_values(\"pct10\", ascending=False)\n",
    "display(results[['model','cv_MAE','cv_std','test_MAE','test_RMSE','pct10','test_R2']])"
   ]
  },
  {
   "cell_type": "markdown",
   "id": "f7796562",
   "metadata": {},
   "source": [
    "### Conclusion:\n",
    "Thanks to the acquisition of a new dataset focused on the 18–25 age group and the inclusion of a new feature — genetical_risk — I was able to build dedicated models tailored specifically to this segment and fulfill all the business requirements:\n",
    "\n",
    "**Achieve high accuracy**  - ≥ **97 %** overall predictive accuracy.  \n",
    "- For at least **95 %** of predictions, the percentage error must be **< 10 %**."
   ]
  },
  {
   "cell_type": "code",
   "execution_count": 19,
   "id": "2a076452",
   "metadata": {},
   "outputs": [
    {
     "name": "stdout",
     "output_type": "stream",
     "text": [
      "✔ saved → c:\\Users\\USER\\Desktop\\projects\\Health Insurance Model\\src\\insurance\\models\\premium_YOUNG_XGB_20250529.joblib\n",
      "✔ saved → c:\\Users\\USER\\Desktop\\projects\\Health Insurance Model\\src\\insurance\\models\\premium_YOUNG_GBR_20250529.joblib\n",
      "✔ saved → c:\\Users\\USER\\Desktop\\projects\\Health Insurance Model\\src\\insurance\\models\\premium_YOUNG_RandomForest_20250529.joblib\n"
     ]
    }
   ],
   "source": [
    "MODEL_DIR = pathlib.Path.cwd().parent / \"src\" / \"insurance\" / \"models\"\n",
    "MODEL_DIR.mkdir(parents=True, exist_ok=True)\n",
    "\n",
    "for row in results.itertuples():              \n",
    "    name  = row.model                           \n",
    "    pipe  = row.best_estimator                 \n",
    "\n",
    "    stamp = dt.datetime.now().strftime(\"%Y%m%d\")\n",
    "    fname = MODEL_DIR / f\"premium_YOUNG_{name}_{stamp}.joblib\"\n",
    "\n",
    "    joblib.dump(pipe, fname)\n",
    "    print(\"✔ saved →\", fname)"
   ]
  },
  {
   "cell_type": "code",
   "execution_count": null,
   "id": "28b46ffb",
   "metadata": {},
   "outputs": [],
   "source": []
  }
 ],
 "metadata": {
  "kernelspec": {
   "display_name": ".venv",
   "language": "python",
   "name": "python3"
  },
  "language_info": {
   "codemirror_mode": {
    "name": "ipython",
    "version": 3
   },
   "file_extension": ".py",
   "mimetype": "text/x-python",
   "name": "python",
   "nbconvert_exporter": "python",
   "pygments_lexer": "ipython3",
   "version": "3.11.3"
  }
 },
 "nbformat": 4,
 "nbformat_minor": 5
}
